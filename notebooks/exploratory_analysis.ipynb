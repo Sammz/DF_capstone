{
 "cells": [
  {
   "cell_type": "code",
   "execution_count": null,
   "id": "553e3947",
   "metadata": {},
   "outputs": [],
   "source": [
    "import pandas as pd "
   ]
  },
  {
   "cell_type": "code",
   "execution_count": null,
   "id": "3fd0d146",
   "metadata": {},
   "outputs": [],
   "source": [
    "# Get the dataset into a dataframe\n",
    "\n",
    "column_names = ['transaction_id', 'price', 'date', 'postcode', 'property_type', 'newbuild', 'duration', 'PAON', 'SAON', 'street', 'locality', 'city', 'district', 'county', 'ppd_category_type', 'record_status']\n",
    " \n",
    "df = pd.read_csv(\"../data/raw/pp-2025_08-05.csv\",header=None, names=column_names )\n",
    "\n",
    "df.head()"
   ]
  },
  {
   "cell_type": "code",
   "execution_count": null,
   "id": "dd6891e3",
   "metadata": {},
   "outputs": [],
   "source": [
    "# Check for null values\n",
    "\n",
    "df.isna().sum()"
   ]
  },
  {
   "cell_type": "code",
   "execution_count": null,
   "id": "d41fd8b8",
   "metadata": {},
   "outputs": [],
   "source": [
    "# Check for records with missing postcode\n",
    "\n",
    "df[df['postcode'].isna()]"
   ]
  },
  {
   "cell_type": "code",
   "execution_count": null,
   "id": "ed27370e",
   "metadata": {},
   "outputs": [],
   "source": [
    "# Check for missing postcode and missing street\n",
    "\n",
    "df[(df['postcode'].isna()) & (df['street'].isna())]  "
   ]
  },
  {
   "cell_type": "code",
   "execution_count": null,
   "id": "7c1840d8",
   "metadata": {},
   "outputs": [],
   "source": [
    "# Check for duplicates\n",
    "\n",
    "df.duplicated().sum()"
   ]
  },
  {
   "cell_type": "code",
   "execution_count": null,
   "id": "32678509",
   "metadata": {},
   "outputs": [],
   "source": [
    "# Check for missing street but with postcode\n",
    "\n",
    "df[(df['postcode'].notna()) & (df['street'].isna())]  "
   ]
  }
 ],
 "metadata": {
  "kernelspec": {
   "display_name": ".venv",
   "language": "python",
   "name": "python3"
  },
  "language_info": {
   "codemirror_mode": {
    "name": "ipython",
    "version": 3
   },
   "file_extension": ".py",
   "mimetype": "text/x-python",
   "name": "python",
   "nbconvert_exporter": "python",
   "pygments_lexer": "ipython3",
   "version": "3.12.2"
  }
 },
 "nbformat": 4,
 "nbformat_minor": 5
}
